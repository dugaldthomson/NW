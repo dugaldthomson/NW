{
 "cells": [
  {
   "cell_type": "code",
   "execution_count": null,
   "metadata": {},
   "outputs": [],
   "source": [
    "import sqlite3\n",
    "import pandas as pd\n",
    "import matplotlib.pyplot as plt\n",
    "from processing import spl, calc_dist, calculate_source_level"
   ]
  },
  {
   "cell_type": "code",
   "execution_count": null,
   "metadata": {},
   "outputs": [],
   "source": [
    "# Connect to the database\n",
    "conn = sqlite3.connect('ship_noise.db')"
   ]
  },
  {
   "cell_type": "code",
   "execution_count": null,
   "metadata": {},
   "outputs": [],
   "source": [
    "# Load the data into pandas DataFrames\n",
    "ships = pd.read_sql_query('SELECT * FROM ships', conn)\n",
    "hydrophones = pd.read_sql_query('SELECT * FROM hydrophones', conn)\n",
    "cpas = pd.read_sql_query('SELECT * FROM cpas', conn)\n",
    "acoustic_data = pd.read_sql_query('SELECT * FROM acoustic_data', conn)\n",
    "ais_data = pd.read_sql_query('SELECT * FROM ais_data', conn)\n",
    "source_levels = pd.read_sql_query('SELECT * FROM source_levels', conn)"
   ]
  },
  {
   "cell_type": "code",
   "execution_count": null,
   "metadata": {},
   "outputs": [],
   "source": [
    "# Join the DataFrames\n",
    "data = pd.merge(source_levels, ships, left_on='ship_id', right_on='id')\n",
    "data = pd.merge(data, cpas, on='ship_id')\n",
    "data = pd.merge(data, ais_data, on=['ship_id', 'timestamp'])"
   ]
  },
  {
   "cell_type": "code",
   "execution_count": null,
   "metadata": {},
   "outputs": [],
   "source": [
    "# Plot the source level over time\n",
    "plt.figure()\n",
    "for ship_name, group in data.groupby('name'):\n",
    "    plt.plot(group['timestamp'], group['source_level'], label=ship_name)\n",
    "plt.xlabel('Time')\n",
    "plt.ylabel('Source Level (dB)')\n",
    "plt.legend()\n",
    "plt.show()"
   ]
  },
  {
   "cell_type": "code",
   "execution_count": null,
   "metadata": {},
   "outputs": [],
   "source": [
    "# Plot the source level over aspect angle\n",
    "plt.figure()\n",
    "for ship_name, group in data.groupby('name'):\n",
    "    plt.scatter(group['aspect_angle'], group['source_level'], label=ship_name)\n",
    "plt.xlabel('Aspect Angle (degrees)')\n",
    "plt.ylabel('Source Level (dB)')\n",
    "plt.legend()\n",
    "plt.show()"
   ]
  }
 ],
 "metadata": {
  "kernelspec": {
   "display_name": "Python 3",
   "language": "python",
   "name": "python3"
  },
  "language_info": {
   "codemirror_mode": {
    "name": "ipython",
    "version": 3
   },
   "file_extension": ".py",
   "mimetype": "text/x-python",
   "name": "python",
   "nbconvert_exporter": "python",
   "pygments_lexer": "ipython3",
   "version": "3.12.11"
  }
 },
 "nbformat": 4,
 "nbformat_minor": 4
}
